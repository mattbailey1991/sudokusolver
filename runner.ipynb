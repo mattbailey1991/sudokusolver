{
 "cells": [
  {
   "cell_type": "code",
   "execution_count": null,
   "metadata": {},
   "outputs": [
    {
     "name": "stdout",
     "output_type": "stream",
     "text": [
      "126437958\n",
      "895621473\n",
      "374985126\n",
      "457193862\n",
      "983246517\n",
      "612578394\n",
      "269314785\n",
      "548769231\n",
      "731852649\n"
     ]
    }
   ],
   "source": [
    "from sudoku import *\n",
    "\n",
    "sudoku = Sudoku(\"boards/board1.txt\")\n",
    "\n",
    "result = sudoku.solve()"
   ]
  },
  {
   "cell_type": "code",
   "execution_count": null,
   "metadata": {},
   "outputs": [],
   "source": []
  }
 ],
 "metadata": {
  "kernelspec": {
   "display_name": "Python 3",
   "language": "python",
   "name": "python3"
  },
  "language_info": {
   "codemirror_mode": {
    "name": "ipython",
    "version": 3
   },
   "file_extension": ".py",
   "mimetype": "text/x-python",
   "name": "python",
   "nbconvert_exporter": "python",
   "pygments_lexer": "ipython3",
   "version": "3.10.12"
  }
 },
 "nbformat": 4,
 "nbformat_minor": 2
}
